{
 "cells": [
  {
   "cell_type": "markdown",
   "id": "9b98776c-7f16-4134-9571-daa378deebbd",
   "metadata": {},
   "source": [
    "## Compression Thoughts"
   ]
  },
  {
   "cell_type": "markdown",
   "id": "e873cc3e-7912-476c-bb2a-9d0dfe926bed",
   "metadata": {},
   "source": [
    "TODO: Shuffle indexes once to simulate random access pattern then always index the same RGB bands and calculate the mean of each\n",
    "to simulate _some_ computation measure the time it takes and then move the benchmark folder to a compressed folder!\n",
    "I can check locally via BTRFS or squashfs or ...\n",
    "\n",
    "But instinctively, I would assume that the block compression size should have to be aligned\n",
    "with the size of the lmdb file \n",
    "\n",
    "-> Block compression is too inflexible and not configurable enough! (the blocks are too small to get good compressions)\n",
    "\n"
   ]
  },
  {
   "cell_type": "code",
   "execution_count": null,
   "id": "18e2cc43-8ece-44c0-8231-bede2fedfeaa",
   "metadata": {},
   "outputs": [],
   "source": [
    "# test size\n",
    "import lmdb\n",
    "import blosc2\n",
    "from numpy import random\n",
    "from safetensors.numpy import save\n",
    "from more_itertools import chunked\n",
    "\n",
    "rand_band = lambda size: random.randint(2**15, size=(size, size)).astype(\"uint16\")\n",
    "rand_s2 = lambda: {\n",
    "    \"B01\": rand_band(30),\n",
    "    \"B02\": rand_band(120),\n",
    "    \"B03\": rand_band(120),\n",
    "    \"B04\": rand_band(120),\n",
    "    \"B05\": rand_band(60),\n",
    "    \"B06\": rand_band(60),\n",
    "    \"B07\": rand_band(60),\n",
    "    \"B08\": rand_band(120),\n",
    "    \"B8A\": rand_band(60),\n",
    "    \"B09\": rand_band(60),\n",
    "    \"B11\": rand_band(60),\n",
    "    \"B12\": rand_band(30),\n",
    "}"
   ]
  },
  {
   "cell_type": "code",
   "execution_count": null,
   "id": "dfb6ae5d-4644-44a1-ad70-310f76abaef8",
   "metadata": {},
   "outputs": [],
   "source": [
    "d = rand_s2()\n",
    "a = d[\"B02\"]\n",
    "\n",
    "# len(save(rand_s2())) / 2**10\n",
    "# a.nbytes / (4*2**10)\n",
    "c = blosc2.compress2(\n",
    "    a,\n",
    "    typesize=a.dtype.itemsize,\n",
    "    codec=blosc2.Codec.ZSTD,\n",
    "    filters=[blosc2.Filter.BYTEDELTA],\n",
    ")\n",
    "len(c) / a.nbytes "
   ]
  },
  {
   "cell_type": "code",
   "execution_count": null,
   "id": "41c763ca-65f3-40d1-b971-1e5da22aac6f",
   "metadata": {},
   "outputs": [],
   "source": [
    "sf_tns = save(sample_data)\n",
    "\n",
    "c_d = blosc2.compress2(\n",
    "    sf_tns,\n",
    "    # typesize=a.dtype.itemsize,\n",
    "    # codec=blosc2.Codec.ZSTD,\n",
    "    codec=blosc2.Codec.ZSTD,\n",
    "    clevel=9,\n",
    "    # filters=[blosc2.Filter.BYTEDELTA],\n",
    "    filters=[blosc2.Filter.BITSHUFFLE],\n",
    "    # filters=[blosc2.Filter.SHUFFLE],\n",
    ")\n",
    "\n",
    "len(c_d) / len(sf_tns)"
   ]
  },
  {
   "cell_type": "code",
   "execution_count": null,
   "id": "92a5187b-3959-4800-a452-d13aec3d28ab",
   "metadata": {},
   "outputs": [],
   "source": [
    "# TODO: fix seed\n",
    "env = lmdb.open(\"benchmark\", map_size=2**40)\n",
    "for chunk in chunked(range(10_000), 1_000):\n",
    "    with env.begin(write=True) as txn:\n",
    "        for i in chunk:\n",
    "            txn.put(f\"{i}\".encode(), save(rand_s2()))"
   ]
  },
  {
   "cell_type": "code",
   "execution_count": null,
   "id": "f2fd23a7-0e3e-4343-a2c8-ac93da67e2e5",
   "metadata": {},
   "outputs": [],
   "source": []
  }
 ],
 "metadata": {
  "kernelspec": {
   "display_name": "Python 3 (ipykernel)",
   "language": "python",
   "name": "python3"
  },
  "language_info": {
   "codemirror_mode": {
    "name": "ipython",
    "version": 3
   },
   "file_extension": ".py",
   "mimetype": "text/x-python",
   "name": "python",
   "nbconvert_exporter": "python",
   "pygments_lexer": "ipython3",
   "version": "3.11.8"
  }
 },
 "nbformat": 4,
 "nbformat_minor": 5
}
