{
 "cells": [
  {
   "cell_type": "code",
   "execution_count": null,
   "id": "68372e47-6c96-4180-9253-714b6dddb6b7",
   "metadata": {},
   "outputs": [],
   "source": [
    "import lmdb\n",
    "import rasterio\n",
    "import safetensors\n",
    "import numpy as np\n",
    "from pathlib import Path\n",
    "from safetensors.numpy import deserialize, load_file, load\n",
    "\n",
    "def read_single_band_raster(path):\n",
    "    with rasterio.open(path) as r:\n",
    "        return r.read(1)\n",
    "\n",
    "p = Path(\"tiffs/BigEarthNet\")\n",
    "source_data = {file: read_single_band_raster(file) for file in p.glob(\"**/*.tif*\")}\n",
    "\n",
    "# code to create the directory\n",
    "# ./result/bin/encoder --bigearthnet-s1-root tiffs/BigEarthNet/S1/ --bigearthnet-s2-root tiffs/BigEarthNet/S2/ artifacts/\n",
    "env = lmdb.open(\"artifacts\", readonly=True)\n",
    "\n",
    "with env.begin(write=False) as txn:\n",
    "    cur = txn.cursor()\n",
    "    decoded_lmdb_data = {k.decode(\"utf-8\"): load(v) for (k, v) in cur}\n",
    "\n",
    "# The encoded data is nested inside of another safetensor dictionary, where the inner keys are derived from the band suffix\n",
    "decoded_values = [v for outer_v in decoded_lmdb_data.values() for v in outer_v.values()]\n",
    "\n",
    "# Simply check if the data remains identical, as this is the only _true_ thing I care about from the Python viewpoint\n",
    "# If the keys/order or anything else is wrong, it isn't part of the integration test but should be handled separately as a unit test!\n",
    "for (source_key, source_value) in source_data.items():\n",
    "    assert any(np.array_equal(source_value, decoded_value) for decoded_value in decoded_values), f\"Couldn't find data in the LMDB database that matches the data from: {source_key}\""
   ]
  },
  {
   "cell_type": "code",
   "execution_count": 52,
   "id": "2c8edc4c-9ae1-4ab2-92e0-f2781e4f576c",
   "metadata": {},
   "outputs": [
    {
     "ename": "AssertionError",
     "evalue": "Executable ENCODER_EXEC_PATH wasn't set",
     "output_type": "error",
     "traceback": [
      "\u001b[0;31m---------------------------------------------------------------------------\u001b[0m",
      "\u001b[0;31mAssertionError\u001b[0m                            Traceback (most recent call last)",
      "Cell \u001b[0;32mIn[52], line 4\u001b[0m\n\u001b[1;32m      1\u001b[0m \u001b[38;5;28;01mimport\u001b[39;00m \u001b[38;5;21;01mos\u001b[39;00m\n\u001b[1;32m      3\u001b[0m executable \u001b[38;5;241m=\u001b[39m os\u001b[38;5;241m.\u001b[39menviron\u001b[38;5;241m.\u001b[39mget(\u001b[38;5;124m\"\u001b[39m\u001b[38;5;124mENCODER_EXEC_PATH\u001b[39m\u001b[38;5;124m\"\u001b[39m)\n\u001b[0;32m----> 4\u001b[0m \u001b[38;5;28;01massert\u001b[39;00m executable, \u001b[38;5;124m\"\u001b[39m\u001b[38;5;124mExecutable ENCODER_EXEC_PATH wasn\u001b[39m\u001b[38;5;124m'\u001b[39m\u001b[38;5;124mt set\u001b[39m\u001b[38;5;124m\"\u001b[39m\n",
      "\u001b[0;31mAssertionError\u001b[0m: Executable ENCODER_EXEC_PATH wasn't set"
     ]
    }
   ],
   "source": [
    "import os\n",
    "\n",
    "executable = os.environ.get(\"ENCODER_EXEC_PATH\")\n",
    "assert executable, \"Executable ENCODER_EXEC_PATH wasn't set\""
   ]
  },
  {
   "cell_type": "code",
   "execution_count": 53,
   "id": "01898963-060e-4831-ad9d-b665df89c356",
   "metadata": {},
   "outputs": [
    {
     "data": {
      "text/plain": [
       "'tiffs/BigEarthNet'"
      ]
     },
     "execution_count": 53,
     "metadata": {},
     "output_type": "execute_result"
    }
   ],
   "source": [
    "str(p)"
   ]
  },
  {
   "cell_type": "code",
   "execution_count": null,
   "id": "1618f995-d4f5-4a29-b868-d7958ef04c8a",
   "metadata": {},
   "outputs": [],
   "source": []
  }
 ],
 "metadata": {
  "kernelspec": {
   "display_name": "Python 3 (ipykernel)",
   "language": "python",
   "name": "python3"
  },
  "language_info": {
   "codemirror_mode": {
    "name": "ipython",
    "version": 3
   },
   "file_extension": ".py",
   "mimetype": "text/x-python",
   "name": "python",
   "nbconvert_exporter": "python",
   "pygments_lexer": "ipython3",
   "version": "3.11.8"
  }
 },
 "nbformat": 4,
 "nbformat_minor": 5
}
