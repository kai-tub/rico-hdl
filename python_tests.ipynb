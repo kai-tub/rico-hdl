{
 "cells": [
  {
   "cell_type": "code",
   "execution_count": 1,
   "id": "5a92a266-b76a-4a9e-9ec9-c12a2e1472e4",
   "metadata": {},
   "outputs": [],
   "source": [
    "import rasterio"
   ]
  },
  {
   "cell_type": "code",
   "execution_count": 2,
   "id": "c0044263-af16-44b0-b47d-7e1e8f07803c",
   "metadata": {},
   "outputs": [],
   "source": [
    "import safetensors\n",
    "from safetensors.numpy import deserialize, load_file, load\n",
    "import numpy as np"
   ]
  },
  {
   "cell_type": "code",
   "execution_count": 3,
   "id": "4e8ac769-241c-4cbb-8a96-5ac7da917d31",
   "metadata": {},
   "outputs": [],
   "source": [
    "with rasterio.open(\"tiffs/S1/S1A_IW_GRDH_1SDV_20170613T165043_33UUP_65_63/S1A_IW_GRDH_1SDV_20170613T165043_33UUP_65_63_VV.tif\") as r:\n",
    "    vv = r.read(1)\n",
    "\n",
    "with rasterio.open(\"tiffs/S2/S2A_MSIL2A_20180526T100031_N9999_R122_T34WFU_14_23/S2A_MSIL2A_20180526T100031_N9999_R122_T34WFU_14_23_B01.tiff\") as r:\n",
    "    b01 = r.read(1)"
   ]
  },
  {
   "cell_type": "code",
   "execution_count": 4,
   "id": "508596bb-3f57-4531-8efb-5ef087f9b2b9",
   "metadata": {},
   "outputs": [],
   "source": [
    "import lmdb"
   ]
  },
  {
   "cell_type": "code",
   "execution_count": 5,
   "id": "c8b126c8-8f64-4e6a-9bfb-747231cf4636",
   "metadata": {},
   "outputs": [
    {
     "name": "stdout",
     "output_type": "stream",
     "text": [
      "b'S1A_IW_GRDH_1SDV_20170613T165043_33UUP_65_63'\n",
      "b'S2A_MSIL2A_20180526T100031_N9999_R122_T34WFU_14_23'\n"
     ]
    }
   ],
   "source": [
    "env = lmdb.open(\"/tmp/target/b01.db\")\n",
    "with env.begin(write=False) as txn:\n",
    "    cur = txn.cursor()\n",
    "    for (k, v) in cur:\n",
    "        print(k)\n",
    "        # print(load(v))\n",
    "        #print(v)"
   ]
  },
  {
   "cell_type": "code",
   "execution_count": 6,
   "id": "886ec202-5207-4513-bfb0-60767ba5a11b",
   "metadata": {},
   "outputs": [],
   "source": [
    "with env.begin(write=False) as txn:\n",
    "    lmdb_s1_patch = txn.get(\"S1A_IW_GRDH_1SDV_20170613T165043_33UUP_65_63\".encode())\n",
    "    lmdb_s2_patch = txn.get(\"S2A_MSIL2A_20180526T100031_N9999_R122_T34WFU_14_23\".encode())"
   ]
  },
  {
   "cell_type": "code",
   "execution_count": 7,
   "id": "d0b10980-4f1d-4b62-9beb-b054bcfc3a39",
   "metadata": {},
   "outputs": [],
   "source": [
    "assert (load(lmdb_s1_patch)[\"VV\"] == vv).all()\n",
    "assert (load(lmdb_s2_patch)[\"B01\"] == b01).all()"
   ]
  },
  {
   "cell_type": "code",
   "execution_count": null,
   "id": "3fc74a37-fb06-4f46-bad6-41577278e9ab",
   "metadata": {},
   "outputs": [],
   "source": []
  },
  {
   "cell_type": "code",
   "execution_count": null,
   "id": "d9e4fca8-b2ce-4472-a5dd-42e5b30808ee",
   "metadata": {},
   "outputs": [],
   "source": []
  }
 ],
 "metadata": {
  "kernelspec": {
   "display_name": "Python 3 (ipykernel)",
   "language": "python",
   "name": "python3"
  },
  "language_info": {
   "codemirror_mode": {
    "name": "ipython",
    "version": 3
   },
   "file_extension": ".py",
   "mimetype": "text/x-python",
   "name": "python",
   "nbconvert_exporter": "python",
   "pygments_lexer": "ipython3",
   "version": "3.10.13"
  }
 },
 "nbformat": 4,
 "nbformat_minor": 5
}
